{
 "cells": [
  {
   "cell_type": "code",
   "execution_count": 2,
   "metadata": {},
   "outputs": [
    {
     "name": "stderr",
     "output_type": "stream",
     "text": [
      "[nltk_data] Downloading package wordnet to /home/dottyz/nltk_data...\n",
      "[nltk_data]   Package wordnet is already up-to-date!\n"
     ]
    }
   ],
   "source": [
    "from copy import deepcopy\n",
    "import geopandas as gpd\n",
    "import pandas as pd\n",
    "import ckanapi\n",
    "import petk\n",
    "from time import sleep\n",
    "from tqdm import tqdm_notebook as tqdm\n",
    "from shapely.geometry import mapping, shape\n",
    "import json\n",
    "import re\n",
    "from sklearn.preprocessing import MinMaxScaler\n",
    "# import plotly\n",
    "# import plotly.graph_objs as go\n",
    "import datetime\n",
    "import numpy as np\n",
    "# plotly.offline.init_notebook_mode(connected=False)\n",
    "import nltk\n",
    "nltk.download('wordnet')\n",
    "from nltk.corpus import wordnet"
   ]
  },
  {
   "cell_type": "markdown",
   "metadata": {},
   "source": [
    "# Open Data \"Magic Score\" Calculator | POC\n",
    "\n",
    "**Goal**: for the next Working Group, have a working POC and present the factors contributing to the score to align on weights.\n",
    "\n",
    "## Planning\n",
    "\n",
    "### Assumptions/Scope\n",
    "\n",
    "1. Data will be in CKAN datastore\n",
    "1. Score will be calculated from CKAN\n",
    "1. Results will be written back into CKAN\n",
    "1. Datasets will have only 1 resource ???\n",
    "1. Factors that can be automated will come from DVT/PETK\n",
    "1. Factor weighting will begin with even weights\n",
    "\n",
    "### Logic/Components\n",
    "\n",
    "1. Read Package Metadata from CKAN\n",
    "1. Filter packages without resources in datastore (data only, readmes do not count)\n",
    "1. Loop through resulting packages and measure factor metrics ([more details](https://docs.google.com/spreadsheets/d/1VYlu6KDPoj69Q6DKO8-lFjl9QLRxQ8hSqfQFnjNDTvI/edit#gid=0))\n",
    "  * PETK\n",
    "  * Metadata completion"
   ]
  },
  {
   "cell_type": "markdown",
   "metadata": {},
   "source": [
    "## Read Package Metadata"
   ]
  },
  {
   "cell_type": "code",
   "execution_count": 4,
   "metadata": {},
   "outputs": [],
   "source": [
    "ckan = ckanapi.RemoteCKAN( address='https://ckan0.cf.opendata.inter.prod-toronto.ca')\n",
    "packages = ckan.action.package_search(rows=10000)['results']"
   ]
  },
  {
   "cell_type": "markdown",
   "metadata": {},
   "source": [
    "## Filter Packages"
   ]
  },
  {
   "cell_type": "code",
   "execution_count": 5,
   "metadata": {},
   "outputs": [],
   "source": [
    "datastore_packages = []\n",
    "\n",
    "for package in deepcopy(packages):\n",
    "    if ('test' not in package['name']) and ('travel-time' not in package['name']):\n",
    "        resources = [ r for r in package['resources'] if (r['datastore_active']) and ('readme' not in r['name'].replace('-', '')) ] \n",
    "\n",
    "        if resources:\n",
    "            package['resources'] = resources\n",
    "            datastore_packages.append(package)"
   ]
  },
  {
   "cell_type": "markdown",
   "metadata": {},
   "source": [
    "## Get data from CKAN"
   ]
  },
  {
   "cell_type": "code",
   "execution_count": 10,
   "metadata": {},
   "outputs": [
    {
     "name": "stdout",
     "output_type": "stream",
     "text": [
      "CPU times: user 19.9 s, sys: 7.05 s, total: 26.9 s\n",
      "Wall time: 4min 38s\n"
     ]
    }
   ],
   "source": [
    "%%time\n",
    "\n",
    "data = {}\n",
    "\n",
    "for package in datastore_packages:\n",
    "    data[package['name']] = []\n",
    "    for resource in package['resources']:\n",
    "        resource = deepcopy(resource)\n",
    "        resp = ckan.action.datastore_search(id=resource['id'], limit=1000000000000)\n",
    "\n",
    "        columns = pd.DataFrame(resp['fields'])['id'].values\n",
    "        if 'geometry' not in columns:\n",
    "            df = pd.DataFrame(resp['records'])\n",
    "        else:\n",
    "            for i, x in enumerate(resp['records']):\n",
    "                resp['records'][i]['geometry'] = shape(json.loads(x['geometry']))\n",
    "\n",
    "            df = gpd.GeoDataFrame(resp['records'])\n",
    "            df.crs = {'init': 'epsg:4326'}\n",
    "            \n",
    "        resource.update({'response': resp, 'df': df, 'name': resource['name']})\n",
    "        data[package['name']].append(resource)\n",
    "\n",
    "        sleep(1)"
   ]
  },
  {
   "cell_type": "markdown",
   "metadata": {
    "toc-hr-collapsed": false
   },
   "source": [
    "## Measure factor metrics\n",
    "\n",
    "### Check Dataset Metadata\n",
    "\n",
    "Completion first, then some estimate for relevance\n",
    "- Description => notes\n",
    "- Collection Method => collection_method\n",
    "- Limitations => limitations\n",
    "- Column schema (descriptions, types, values for missing, valid values)\n",
    "- Contact of publisher => owner_email\n",
    "- Keywords => tags, topics\n",
    "\n",
    "### Check PETK measures\n",
    "\n",
    "- Constant values\n",
    "- Geo: Valid geometry\n",
    "- Column types\n",
    "- Shape (e.g. long)\n",
    "- Geo: slivers\n",
    "- % missing\n",
    "- Column schema"
   ]
  },
  {
   "cell_type": "code",
   "execution_count": 13,
   "metadata": {},
   "outputs": [
    {
     "name": "stdout",
     "output_type": "stream",
     "text": [
      "CPU times: user 33.3 s, sys: 0 ns, total: 33.3 s\n",
      "Wall time: 27.1 s\n"
     ]
    }
   ],
   "source": [
    "%%time\n",
    "\n",
    "metadata_fields = ['notes', 'collection_method', 'limitations', 'owner_email', 'topics']\n",
    "results = []\n",
    "\n",
    "for package in datastore_packages:\n",
    "    filled_count = 0\n",
    "    for field in metadata_fields:\n",
    "        filled_count += 1 if field in package.keys() and field is not None and field != '' else 0\n",
    "    \n",
    "    for resource in data[package['name']]:\n",
    "        report = petk.DataReport(resource['df'])\n",
    "        intro = report.introduce().loc['observations']\n",
    "        desc = report.describe().T\n",
    "\n",
    "        fields_with_meaning, fields_with_description = 0, 0\n",
    "        for f in [ f for f in resource['response']['fields'] if f['id'] != '_id']:\n",
    "            fields_with_description =+ 1 if ('info' in f) and (f['info']['notes']) else 0\n",
    "            \n",
    "            split_name = [x.replace('_', '').strip() for x in re.findall('.+?(?:(?<=[a-z])(?=[A-Z])|(?<=[A-Z])(?=[A-Z][a-z])|(?=[_\\s-])|$)', f['id'])]\n",
    "            english_words = [int(not not wordnet.synsets(sub)) for sub in split_name]\n",
    "            fields_with_meaning += 1 if (sum(english_words) / len(english_words) >= 0.8) else 0\n",
    "\n",
    "        results.append({\n",
    "            'dataset_name': package['name'],\n",
    "            'resource_name': resource['name'],\n",
    "            'dataset_metadata_filled_percent': filled_count/len(metadata_fields),\n",
    "            'completeness_percent': 1 - (intro.loc['missing'][0] / intro.loc['total'][0]),\n",
    "            'column_descriptions_percent': 1 - (fields_with_description / len(resource['response']['fields'])),\n",
    "            'meaningful_column_names_percent': 1 - (fields_with_meaning / len(resource['response']['fields'])),\n",
    "            'no_constant_columns_percent': 1 - (desc[desc['distinct_count'] == 1].shape[0] / desc.shape[0]),\n",
    "        })"
   ]
  },
  {
   "cell_type": "markdown",
   "metadata": {},
   "source": [
    "## Aggregate metrics to dimensions"
   ]
  },
  {
   "cell_type": "code",
   "execution_count": 14,
   "metadata": {},
   "outputs": [
    {
     "data": {
      "text/html": [
       "<div>\n",
       "<style scoped>\n",
       "    .dataframe tbody tr th:only-of-type {\n",
       "        vertical-align: middle;\n",
       "    }\n",
       "\n",
       "    .dataframe tbody tr th {\n",
       "        vertical-align: top;\n",
       "    }\n",
       "\n",
       "    .dataframe thead th {\n",
       "        text-align: right;\n",
       "    }\n",
       "</style>\n",
       "<table border=\"1\" class=\"dataframe\">\n",
       "  <thead>\n",
       "    <tr style=\"text-align: right;\">\n",
       "      <th></th>\n",
       "      <th></th>\n",
       "      <th>completeness</th>\n",
       "      <th>metadata</th>\n",
       "      <th>usability</th>\n",
       "    </tr>\n",
       "    <tr>\n",
       "      <th>dataset_name</th>\n",
       "      <th>resource_name</th>\n",
       "      <th></th>\n",
       "      <th></th>\n",
       "      <th></th>\n",
       "    </tr>\n",
       "  </thead>\n",
       "  <tbody>\n",
       "    <tr>\n",
       "      <th>traffic-signals-tabular</th>\n",
       "      <th>traffic-signals-all-version-2-csv</th>\n",
       "      <td>81.0</td>\n",
       "      <td>80.0</td>\n",
       "      <td>63.0</td>\n",
       "    </tr>\n",
       "    <tr>\n",
       "      <th>council-and-standing-committee-meeting-statistics</th>\n",
       "      <th>council-and-standing-committee-meeting-statistics-data-2014-2018</th>\n",
       "      <td>100.0</td>\n",
       "      <td>80.0</td>\n",
       "      <td>75.0</td>\n",
       "    </tr>\n",
       "    <tr>\n",
       "      <th>building-permits-signs</th>\n",
       "      <th>Building Permits - Signs Data</th>\n",
       "      <td>95.0</td>\n",
       "      <td>80.0</td>\n",
       "      <td>63.0</td>\n",
       "    </tr>\n",
       "  </tbody>\n",
       "</table>\n",
       "</div>"
      ],
      "text/plain": [
       "                                                                                                      completeness  \\\n",
       "dataset_name                                      resource_name                                                      \n",
       "traffic-signals-tabular                           traffic-signals-all-version-2-csv                           81.0   \n",
       "council-and-standing-committee-meeting-statistics council-and-standing-committee-meeting-statisti...         100.0   \n",
       "building-permits-signs                            Building Permits - Signs Data                               95.0   \n",
       "\n",
       "                                                                                                      metadata  \\\n",
       "dataset_name                                      resource_name                                                  \n",
       "traffic-signals-tabular                           traffic-signals-all-version-2-csv                       80.0   \n",
       "council-and-standing-committee-meeting-statistics council-and-standing-committee-meeting-statisti...      80.0   \n",
       "building-permits-signs                            Building Permits - Signs Data                           80.0   \n",
       "\n",
       "                                                                                                      usability  \n",
       "dataset_name                                      resource_name                                                  \n",
       "traffic-signals-tabular                           traffic-signals-all-version-2-csv                        63.0  \n",
       "council-and-standing-committee-meeting-statistics council-and-standing-committee-meeting-statisti...       75.0  \n",
       "building-permits-signs                            Building Permits - Signs Data                            63.0  "
      ]
     },
     "execution_count": 14,
     "metadata": {},
     "output_type": "execute_result"
    }
   ],
   "source": [
    "dimension_results = []\n",
    "\n",
    "mappings = {\n",
    "    'metadata': ['dataset_metadata_filled_percent', 'column_descriptions_percent'],\n",
    "    'completeness': ['completeness_percent'],\n",
    "    'usability': ['meaningful_column_names_percent', 'no_constant_columns_percent']\n",
    "}\n",
    "\n",
    "all_metrics = [ item for sublist in  list(mappings.values()) for item in sublist ]\n",
    "\n",
    "for i in results:\n",
    "    row = { k:v for (k, v) in i.items() if k not in all_metrics }\n",
    "    for m, k in mappings.items():\n",
    "        scores = [ i[x] for x in k ]\n",
    "        row[m] = sum(scores)/len(scores)\n",
    "    dimension_results.append(row)\n",
    "    \n",
    "results_df = pd.DataFrame(dimension_results).set_index(['dataset_name', 'resource_name']).round(2)  * 100\n",
    "results_df.sample(3)"
   ]
  },
  {
   "cell_type": "markdown",
   "metadata": {},
   "source": [
    "### Perform MCDM (Multi-Criteria Decision-Making) Analysis"
   ]
  },
  {
   "cell_type": "code",
   "execution_count": 7,
   "metadata": {},
   "outputs": [],
   "source": [
    "# LEGACY code - from before metrics were aggregated to dimension level\n",
    "# results_df = pd.DataFrame(results).set_index(['dataset_name', 'resource_name']).round(2)  * 100\n",
    "# results_df.sample(3)"
   ]
  },
  {
   "cell_type": "code",
   "execution_count": 15,
   "metadata": {},
   "outputs": [],
   "source": [
    "# LEGACY code - from before metrics were aggregated to dimension level\n",
    "# criteria = {\n",
    "#     1: {\"name\": \"meaningful_column_names_percent\",},\n",
    "#     2: {\"name\": \"no_constant_columns_percent\",},\n",
    "#     3: {\"name\": \"completeness_percent\",},\n",
    "#     4: {\"name\": \"dataset_metadata_filled_percent\",},\n",
    "#     5: {\"name\": \"column_descriptions_percent\"},\n",
    "# }\n",
    "\n",
    "# this is a random example - need to replace ranking from survey results. Illustration only.\n",
    "criteria = {\n",
    "    1: {\"name\": \"usability\",},\n",
    "    2: {\"name\": \"completeness\",},\n",
    "    3: {\"name\": \"metadata\",},\n",
    "}\n",
    "\n",
    "N = len(criteria)"
   ]
  },
  {
   "cell_type": "markdown",
   "metadata": {},
   "source": [
    "### Naïve scoring method\n",
    "\n",
    "#### Even Weights (EW)"
   ]
  },
  {
   "cell_type": "code",
   "execution_count": 16,
   "metadata": {},
   "outputs": [],
   "source": [
    "results_df['ew_score'] = results_df.T.apply('sum') / len(results_df.columns)"
   ]
  },
  {
   "cell_type": "markdown",
   "metadata": {
    "toc-hr-collapsed": true
   },
   "source": [
    "### Weighted scoring methods"
   ]
  },
  {
   "cell_type": "markdown",
   "metadata": {},
   "source": [
    "#### Rank Sum(RS)"
   ]
  },
  {
   "cell_type": "code",
   "execution_count": 17,
   "metadata": {},
   "outputs": [
    {
     "data": {
      "text/plain": [
       "0.9999999999999999"
      ]
     },
     "execution_count": 17,
     "metadata": {},
     "output_type": "execute_result"
    }
   ],
   "source": [
    "rs_weights = [ (N + 1 - i) / np.array([ (N + 1 - i) for i in criteria ]).sum() for i in criteria ]\n",
    "np.array(rs_weights).sum()"
   ]
  },
  {
   "cell_type": "markdown",
   "metadata": {},
   "source": [
    "#### Rank Reciprocal (RR)"
   ]
  },
  {
   "cell_type": "code",
   "execution_count": 18,
   "metadata": {},
   "outputs": [
    {
     "data": {
      "text/plain": [
       "1.0000000000000002"
      ]
     },
     "execution_count": 18,
     "metadata": {},
     "output_type": "execute_result"
    }
   ],
   "source": [
    "rr_weights = [ (1/i) / np.array([1/i for i in criteria]).sum() for i in criteria ]\n",
    "np.array(rr_weights).sum()"
   ]
  },
  {
   "cell_type": "markdown",
   "metadata": {},
   "source": [
    "#### Sum and Reciprocal (SR)"
   ]
  },
  {
   "cell_type": "code",
   "execution_count": 19,
   "metadata": {},
   "outputs": [
    {
     "data": {
      "text/plain": [
       "0.9999999999999999"
      ]
     },
     "execution_count": 19,
     "metadata": {},
     "output_type": "execute_result"
    }
   ],
   "source": [
    "sr_weights = [ ((1/i) + ((N + 1 - i) / N)) / np.array([((1/i) + ((N + 1 - i) / N)) for i in criteria]).sum() for i in criteria ]\n",
    "np.array(sr_weights).sum()"
   ]
  },
  {
   "cell_type": "markdown",
   "metadata": {},
   "source": [
    "#### Rank Exponent (RE)"
   ]
  },
  {
   "cell_type": "code",
   "execution_count": 20,
   "metadata": {},
   "outputs": [
    {
     "data": {
      "text/plain": [
       "1.0"
      ]
     },
     "execution_count": 20,
     "metadata": {},
     "output_type": "execute_result"
    }
   ],
   "source": [
    "exp = 0.2 # arbitrary, for illustration - not a big fan of this one myself\n",
    "\n",
    "re_weights = [ (N + 1 - i)**exp / np.array([ (N + 1 - i)**exp for i in criteria ]).sum() for i in criteria ]\n",
    "np.array(re_weights).sum()"
   ]
  },
  {
   "cell_type": "markdown",
   "metadata": {},
   "source": [
    "### Capture weights for each method"
   ]
  },
  {
   "cell_type": "code",
   "execution_count": 21,
   "metadata": {},
   "outputs": [
    {
     "data": {
      "text/plain": [
       "{1: {'name': 'usability',\n",
       "  'rs': 0.5,\n",
       "  'rr': 0.5454545454545455,\n",
       "  're': 0.3669927494417608,\n",
       "  'sr': 0.5217391304347826},\n",
       " 2: {'name': 'completeness',\n",
       "  'rs': 0.3333333333333333,\n",
       "  'rr': 0.27272727272727276,\n",
       "  're': 0.3384069177166791,\n",
       "  'sr': 0.3043478260869565},\n",
       " 3: {'name': 'metadata',\n",
       "  'rs': 0.16666666666666666,\n",
       "  'rr': 0.18181818181818182,\n",
       "  're': 0.29460033284156006,\n",
       "  'sr': 0.17391304347826086}}"
      ]
     },
     "execution_count": 21,
     "metadata": {},
     "output_type": "execute_result"
    }
   ],
   "source": [
    "for rs, rr, sr, re in zip(rs_weights, rr_weights, sr_weights, re_weights):\n",
    "    criteria[rs_weights.index(rs)+1]['rs'] = rs\n",
    "    criteria[rr_weights.index(rr)+1]['rr'] = rr\n",
    "    criteria[re_weights.index(re)+1]['re'] = re\n",
    "    criteria[sr_weights.index(sr)+1]['sr'] = sr\n",
    "    \n",
    "criteria"
   ]
  },
  {
   "cell_type": "markdown",
   "metadata": {},
   "source": [
    "### Score resources"
   ]
  },
  {
   "cell_type": "code",
   "execution_count": 37,
   "metadata": {},
   "outputs": [
    {
     "data": {
      "text/html": [
       "<div>\n",
       "<style scoped>\n",
       "    .dataframe tbody tr th:only-of-type {\n",
       "        vertical-align: middle;\n",
       "    }\n",
       "\n",
       "    .dataframe tbody tr th {\n",
       "        vertical-align: top;\n",
       "    }\n",
       "\n",
       "    .dataframe thead th {\n",
       "        text-align: right;\n",
       "    }\n",
       "</style>\n",
       "<table border=\"1\" class=\"dataframe\">\n",
       "  <thead>\n",
       "    <tr style=\"text-align: right;\">\n",
       "      <th></th>\n",
       "      <th>dataset_name</th>\n",
       "      <th>resource_name</th>\n",
       "      <th>completeness</th>\n",
       "      <th>metadata</th>\n",
       "      <th>usability</th>\n",
       "      <th>rs</th>\n",
       "      <th>rr</th>\n",
       "      <th>re</th>\n",
       "      <th>sr</th>\n",
       "      <th>ew</th>\n",
       "    </tr>\n",
       "  </thead>\n",
       "  <tbody>\n",
       "    <tr>\n",
       "      <th>0</th>\n",
       "      <td>bodysafe</td>\n",
       "      <td>BodySafe Data</td>\n",
       "      <td>70.0</td>\n",
       "      <td>78.0</td>\n",
       "      <td>87.0</td>\n",
       "      <td>80.0</td>\n",
       "      <td>81.0</td>\n",
       "      <td>79.0</td>\n",
       "      <td>80.0</td>\n",
       "      <td>78.0</td>\n",
       "    </tr>\n",
       "    <tr>\n",
       "      <th>1</th>\n",
       "      <td>street-furniture-transit-shelter</td>\n",
       "      <td>Transit shelter data</td>\n",
       "      <td>91.0</td>\n",
       "      <td>80.0</td>\n",
       "      <td>73.0</td>\n",
       "      <td>80.0</td>\n",
       "      <td>79.0</td>\n",
       "      <td>81.0</td>\n",
       "      <td>80.0</td>\n",
       "      <td>81.0</td>\n",
       "    </tr>\n",
       "    <tr>\n",
       "      <th>2</th>\n",
       "      <td>street-furniture-publication-structure</td>\n",
       "      <td>Publication structure data</td>\n",
       "      <td>96.0</td>\n",
       "      <td>80.0</td>\n",
       "      <td>71.0</td>\n",
       "      <td>81.0</td>\n",
       "      <td>79.0</td>\n",
       "      <td>82.0</td>\n",
       "      <td>80.0</td>\n",
       "      <td>82.0</td>\n",
       "    </tr>\n",
       "    <tr>\n",
       "      <th>3</th>\n",
       "      <td>street-furniture-public-washroom</td>\n",
       "      <td>Public washroom data</td>\n",
       "      <td>97.0</td>\n",
       "      <td>80.0</td>\n",
       "      <td>67.0</td>\n",
       "      <td>79.0</td>\n",
       "      <td>78.0</td>\n",
       "      <td>81.0</td>\n",
       "      <td>78.0</td>\n",
       "      <td>81.0</td>\n",
       "    </tr>\n",
       "    <tr>\n",
       "      <th>4</th>\n",
       "      <td>street-furniture-poster-structure</td>\n",
       "      <td>Poster structure data</td>\n",
       "      <td>96.0</td>\n",
       "      <td>80.0</td>\n",
       "      <td>74.0</td>\n",
       "      <td>82.0</td>\n",
       "      <td>81.0</td>\n",
       "      <td>83.0</td>\n",
       "      <td>82.0</td>\n",
       "      <td>83.0</td>\n",
       "    </tr>\n",
       "  </tbody>\n",
       "</table>\n",
       "</div>"
      ],
      "text/plain": [
       "                             dataset_name               resource_name  \\\n",
       "0                                bodysafe               BodySafe Data   \n",
       "1        street-furniture-transit-shelter        Transit shelter data   \n",
       "2  street-furniture-publication-structure  Publication structure data   \n",
       "3        street-furniture-public-washroom        Public washroom data   \n",
       "4       street-furniture-poster-structure       Poster structure data   \n",
       "\n",
       "   completeness  metadata  usability    rs    rr    re    sr    ew  \n",
       "0          70.0      78.0       87.0  80.0  81.0  79.0  80.0  78.0  \n",
       "1          91.0      80.0       73.0  80.0  79.0  81.0  80.0  81.0  \n",
       "2          96.0      80.0       71.0  81.0  79.0  82.0  80.0  82.0  \n",
       "3          97.0      80.0       67.0  79.0  78.0  81.0  78.0  81.0  \n",
       "4          96.0      80.0       74.0  82.0  81.0  83.0  82.0  83.0  "
      ]
     },
     "execution_count": 37,
     "metadata": {},
     "output_type": "execute_result"
    }
   ],
   "source": [
    "scored_resources = results_df.drop('ew_score', axis=1).copy().reset_index()\n",
    "\n",
    "for method in ['rs', 'rr', 're', 'sr']:\n",
    "    scores = []\n",
    "    \n",
    "    for a, b in zip(scored_resources[[x[1]['name'] for x in criteria.items() ]].values\\\n",
    "                    , [ [r[1][method] for r in criteria.items()] ] * scored_resources.shape[0]):\n",
    "        scores.append([x*y for (x, y) in zip(a, b)])\n",
    "        \n",
    "    scores = pd.DataFrame(scores)\n",
    "    scores.columns = results_df.copy().drop('ew_score', axis=1).columns\n",
    "    \n",
    "    scored_resources[method] = scores.apply(lambda x: np.round(sum(x)), axis=1)\n",
    "    \n",
    "scored_resources['ew'] = results_df.reset_index()['ew_score'].round()\n",
    "scored_resources.head(5)"
   ]
  },
  {
   "cell_type": "code",
   "execution_count": 35,
   "metadata": {},
   "outputs": [
    {
     "data": {
      "text/plain": [
       "([[0.5217391304347826, 0.3043478260869565, 0.17391304347826086]],\n",
       " [0.5217391304347826, 0.3043478260869565, 0.17391304347826086])"
      ]
     },
     "execution_count": 35,
     "metadata": {},
     "output_type": "execute_result"
    }
   ],
   "source": [
    "[ [r[1][method] for r in criteria.items()] ], sr_weights"
   ]
  },
  {
   "cell_type": "markdown",
   "metadata": {},
   "source": [
    "### Aggregate to dataset level"
   ]
  },
  {
   "cell_type": "markdown",
   "metadata": {
    "toc-hr-collapsed": true
   },
   "source": [
    "#### Average resource scores"
   ]
  },
  {
   "cell_type": "code",
   "execution_count": 17,
   "metadata": {},
   "outputs": [
    {
     "data": {
      "text/html": [
       "<div>\n",
       "<style scoped>\n",
       "    .dataframe tbody tr th:only-of-type {\n",
       "        vertical-align: middle;\n",
       "    }\n",
       "\n",
       "    .dataframe tbody tr th {\n",
       "        vertical-align: top;\n",
       "    }\n",
       "\n",
       "    .dataframe thead th {\n",
       "        text-align: right;\n",
       "    }\n",
       "</style>\n",
       "<table border=\"1\" class=\"dataframe\">\n",
       "  <thead>\n",
       "    <tr style=\"text-align: right;\">\n",
       "      <th></th>\n",
       "      <th>completeness</th>\n",
       "      <th>metadata</th>\n",
       "      <th>usability</th>\n",
       "      <th>rs</th>\n",
       "      <th>rr</th>\n",
       "      <th>re</th>\n",
       "      <th>sr</th>\n",
       "      <th>ew</th>\n",
       "    </tr>\n",
       "    <tr>\n",
       "      <th>dataset_name</th>\n",
       "      <th></th>\n",
       "      <th></th>\n",
       "      <th></th>\n",
       "      <th></th>\n",
       "      <th></th>\n",
       "      <th></th>\n",
       "      <th></th>\n",
       "      <th></th>\n",
       "    </tr>\n",
       "  </thead>\n",
       "  <tbody>\n",
       "    <tr>\n",
       "      <th>building-permits-signs</th>\n",
       "      <td>96.5</td>\n",
       "      <td>100.0</td>\n",
       "      <td>62.0</td>\n",
       "      <td>80.0</td>\n",
       "      <td>78.0</td>\n",
       "      <td>85.0</td>\n",
       "      <td>79.0</td>\n",
       "      <td>86.0</td>\n",
       "    </tr>\n",
       "    <tr>\n",
       "      <th>registry-of-declared-interest</th>\n",
       "      <td>80.0</td>\n",
       "      <td>80.0</td>\n",
       "      <td>52.5</td>\n",
       "      <td>66.5</td>\n",
       "      <td>65.0</td>\n",
       "      <td>70.0</td>\n",
       "      <td>65.5</td>\n",
       "      <td>71.0</td>\n",
       "    </tr>\n",
       "    <tr>\n",
       "      <th>marriage-licence-statistics</th>\n",
       "      <td>100.0</td>\n",
       "      <td>88.0</td>\n",
       "      <td>62.0</td>\n",
       "      <td>79.0</td>\n",
       "      <td>77.0</td>\n",
       "      <td>83.0</td>\n",
       "      <td>78.0</td>\n",
       "      <td>83.0</td>\n",
       "    </tr>\n",
       "    <tr>\n",
       "      <th>licensed-child-care-centres</th>\n",
       "      <td>95.0</td>\n",
       "      <td>80.0</td>\n",
       "      <td>78.0</td>\n",
       "      <td>84.0</td>\n",
       "      <td>83.0</td>\n",
       "      <td>84.0</td>\n",
       "      <td>84.0</td>\n",
       "      <td>84.0</td>\n",
       "    </tr>\n",
       "    <tr>\n",
       "      <th>street-furniture-information-pillar-wayfinding-structure</th>\n",
       "      <td>96.0</td>\n",
       "      <td>100.0</td>\n",
       "      <td>74.0</td>\n",
       "      <td>86.0</td>\n",
       "      <td>85.0</td>\n",
       "      <td>89.0</td>\n",
       "      <td>85.0</td>\n",
       "      <td>90.0</td>\n",
       "    </tr>\n",
       "  </tbody>\n",
       "</table>\n",
       "</div>"
      ],
      "text/plain": [
       "                                                    completeness  metadata  \\\n",
       "dataset_name                                                                 \n",
       "building-permits-signs                                      96.5     100.0   \n",
       "registry-of-declared-interest                               80.0      80.0   \n",
       "marriage-licence-statistics                                100.0      88.0   \n",
       "licensed-child-care-centres                                 95.0      80.0   \n",
       "street-furniture-information-pillar-wayfinding-...          96.0     100.0   \n",
       "\n",
       "                                                    usability    rs    rr  \\\n",
       "dataset_name                                                                \n",
       "building-permits-signs                                   62.0  80.0  78.0   \n",
       "registry-of-declared-interest                            52.5  66.5  65.0   \n",
       "marriage-licence-statistics                              62.0  79.0  77.0   \n",
       "licensed-child-care-centres                              78.0  84.0  83.0   \n",
       "street-furniture-information-pillar-wayfinding-...       74.0  86.0  85.0   \n",
       "\n",
       "                                                      re    sr    ew  \n",
       "dataset_name                                                          \n",
       "building-permits-signs                              85.0  79.0  86.0  \n",
       "registry-of-declared-interest                       70.0  65.5  71.0  \n",
       "marriage-licence-statistics                         83.0  78.0  83.0  \n",
       "licensed-child-care-centres                         84.0  84.0  84.0  \n",
       "street-furniture-information-pillar-wayfinding-...  89.0  85.0  90.0  "
      ]
     },
     "execution_count": 17,
     "metadata": {},
     "output_type": "execute_result"
    }
   ],
   "source": [
    "dataset_scores = scored_resources.groupby('dataset_name').mean()\n",
    "dataset_scores.sample(5)"
   ]
  },
  {
   "cell_type": "markdown",
   "metadata": {},
   "source": [
    "##### Example: Visualizing SR histogram"
   ]
  },
  {
   "cell_type": "code",
   "execution_count": 18,
   "metadata": {},
   "outputs": [
    {
     "data": {
      "application/vnd.plotly.v1+json": {
       "config": {
        "linkText": "Export to plot.ly",
        "plotlyServerURL": "https://plot.ly",
        "showLink": false
       },
       "data": [
        {
         "type": "histogram",
         "uid": "1433b364-4026-4289-a6e0-df6b3ba2d191",
         "x": [
          81,
          71,
          71,
          70,
          84,
          80,
          77.5,
          80,
          79,
          75,
          80,
          69,
          77,
          78,
          65,
          69,
          82,
          83,
          72,
          70,
          83,
          79,
          65,
          65,
          65,
          77,
          76,
          86,
          93,
          89,
          79,
          84,
          78,
          79,
          78,
          64,
          90,
          79,
          64,
          80,
          79,
          73,
          65.5,
          86,
          75,
          75,
          72,
          74,
          72,
          85,
          82,
          85,
          85,
          83,
          85,
          82,
          84,
          83,
          74,
          72,
          67.375
         ]
        }
       ],
       "layout": {
        "autosize": true,
        "xaxis": {
         "autorange": true,
         "range": [
          60,
          95
         ],
         "type": "linear"
        },
        "yaxis": {
         "autorange": true,
         "range": [
          0,
          16.842105263157894
         ]
        }
       }
      },
      "image/png": "[encoded data removed]",
      "text/html": [
       "<div>\n",
       "        \n",
       "        \n",
       "            <div id=\"5a104164-4849-4fb1-9c3a-a032ec747661\" class=\"plotly-graph-div\" style=\"height:525px; width:100%;\"></div>\n",
       "            <script type=\"text/javascript\">\n",
       "                require([\"plotly\"], function(Plotly) {\n",
       "                    window.PLOTLYENV=window.PLOTLYENV || {};\n",
       "                    window.PLOTLYENV.BASE_URL='https://plot.ly';\n",
       "                    \n",
       "                if (document.getElementById(\"5a104164-4849-4fb1-9c3a-a032ec747661\")) {\n",
       "                    Plotly.newPlot(\n",
       "                        '5a104164-4849-4fb1-9c3a-a032ec747661',\n",
       "                        [{\"type\": \"histogram\", \"uid\": \"1433b364-4026-4289-a6e0-df6b3ba2d191\", \"x\": [81.0, 71.0, 71.0, 70.0, 84.0, 80.0, 77.5, 80.0, 79.0, 75.0, 80.0, 69.0, 77.0, 78.0, 65.0, 69.0, 82.0, 83.0, 72.0, 70.0, 83.0, 79.0, 65.0, 65.0, 65.0, 77.0, 76.0, 86.0, 93.0, 89.0, 79.0, 84.0, 78.0, 79.0, 78.0, 64.0, 90.0, 79.0, 64.0, 80.0, 79.0, 73.0, 65.5, 86.0, 75.0, 75.0, 72.0, 74.0, 72.0, 85.0, 82.0, 85.0, 85.0, 83.0, 85.0, 82.0, 84.0, 83.0, 74.0, 72.0, 67.375]}],\n",
       "                        {},\n",
       "                        {\"showLink\": false, \"linkText\": \"Export to plot.ly\", \"plotlyServerURL\": \"https://plot.ly\", \"responsive\": true}\n",
       "                    ).then(function(){\n",
       "                            \n",
       "var gd = document.getElementById('5a104164-4849-4fb1-9c3a-a032ec747661');\n",
       "var x = new MutationObserver(function (mutations, observer) {{\n",
       "        var display = window.getComputedStyle(gd).display;\n",
       "        if (!display || display === 'none') {{\n",
       "            console.log([gd, 'removed!']);\n",
       "            Plotly.purge(gd);\n",
       "            observer.disconnect();\n",
       "        }}\n",
       "}});\n",
       "\n",
       "// Listen for the removal of the full notebook cells\n",
       "var notebookContainer = gd.closest('#notebook-container');\n",
       "if (notebookContainer) {{\n",
       "    x.observe(notebookContainer, {childList: true});\n",
       "}}\n",
       "\n",
       "// Listen for the clearing of the current output cell\n",
       "var outputEl = gd.closest('.output');\n",
       "if (outputEl) {{\n",
       "    x.observe(outputEl, {childList: true});\n",
       "}}\n",
       "\n",
       "                        })\n",
       "                };\n",
       "                });\n",
       "            </script>\n",
       "        </div>"
      ]
     },
     "metadata": {},
     "output_type": "display_data"
    }
   ],
   "source": [
    "plotly.offline.iplot([go.Histogram(x=dataset_scores['sr'])])"
   ]
  },
  {
   "cell_type": "markdown",
   "metadata": {
    "toc-hr-collapsed": true
   },
   "source": [
    "#### Normalize dataset scores"
   ]
  },
  {
   "cell_type": "code",
   "execution_count": 34,
   "metadata": {},
   "outputs": [
    {
     "data": {
      "text/html": [
       "<div>\n",
       "<style scoped>\n",
       "    .dataframe tbody tr th:only-of-type {\n",
       "        vertical-align: middle;\n",
       "    }\n",
       "\n",
       "    .dataframe tbody tr th {\n",
       "        vertical-align: top;\n",
       "    }\n",
       "\n",
       "    .dataframe thead th {\n",
       "        text-align: right;\n",
       "    }\n",
       "</style>\n",
       "<table border=\"1\" class=\"dataframe\">\n",
       "  <thead>\n",
       "    <tr style=\"text-align: right;\">\n",
       "      <th></th>\n",
       "      <th>completeness</th>\n",
       "      <th>metadata</th>\n",
       "      <th>usability</th>\n",
       "      <th>rs</th>\n",
       "      <th>rr</th>\n",
       "      <th>re</th>\n",
       "      <th>sr</th>\n",
       "      <th>ew</th>\n",
       "      <th>rs_normalized</th>\n",
       "      <th>rr_normalized</th>\n",
       "      <th>re_normalized</th>\n",
       "      <th>sr_normalized</th>\n",
       "      <th>ew_normalized</th>\n",
       "    </tr>\n",
       "    <tr>\n",
       "      <th>dataset_name</th>\n",
       "      <th></th>\n",
       "      <th></th>\n",
       "      <th></th>\n",
       "      <th></th>\n",
       "      <th></th>\n",
       "      <th></th>\n",
       "      <th></th>\n",
       "      <th></th>\n",
       "      <th></th>\n",
       "      <th></th>\n",
       "      <th></th>\n",
       "      <th></th>\n",
       "      <th></th>\n",
       "    </tr>\n",
       "  </thead>\n",
       "  <tbody>\n",
       "    <tr>\n",
       "      <th>traffic-cameras</th>\n",
       "      <td>99.0</td>\n",
       "      <td>80.0</td>\n",
       "      <td>54.0</td>\n",
       "      <td>73.0</td>\n",
       "      <td>71.0</td>\n",
       "      <td>77.0</td>\n",
       "      <td>72.0</td>\n",
       "      <td>78.0</td>\n",
       "      <td>33.3</td>\n",
       "      <td>27.6</td>\n",
       "      <td>35.7</td>\n",
       "      <td>27.6</td>\n",
       "      <td>37.0</td>\n",
       "    </tr>\n",
       "    <tr>\n",
       "      <th>building-permits-green-roofs</th>\n",
       "      <td>91.5</td>\n",
       "      <td>100.0</td>\n",
       "      <td>62.0</td>\n",
       "      <td>78.0</td>\n",
       "      <td>77.0</td>\n",
       "      <td>83.0</td>\n",
       "      <td>77.5</td>\n",
       "      <td>84.5</td>\n",
       "      <td>50.0</td>\n",
       "      <td>48.3</td>\n",
       "      <td>57.1</td>\n",
       "      <td>46.6</td>\n",
       "      <td>61.1</td>\n",
       "    </tr>\n",
       "    <tr>\n",
       "      <th>marriage-licence-statistics</th>\n",
       "      <td>100.0</td>\n",
       "      <td>88.0</td>\n",
       "      <td>62.0</td>\n",
       "      <td>79.0</td>\n",
       "      <td>77.0</td>\n",
       "      <td>83.0</td>\n",
       "      <td>78.0</td>\n",
       "      <td>83.0</td>\n",
       "      <td>53.3</td>\n",
       "      <td>48.3</td>\n",
       "      <td>57.1</td>\n",
       "      <td>48.3</td>\n",
       "      <td>55.6</td>\n",
       "    </tr>\n",
       "    <tr>\n",
       "      <th>daily-shelter-occupancy</th>\n",
       "      <td>99.0</td>\n",
       "      <td>80.0</td>\n",
       "      <td>50.0</td>\n",
       "      <td>71.0</td>\n",
       "      <td>69.0</td>\n",
       "      <td>75.0</td>\n",
       "      <td>70.0</td>\n",
       "      <td>76.0</td>\n",
       "      <td>26.7</td>\n",
       "      <td>20.7</td>\n",
       "      <td>28.6</td>\n",
       "      <td>20.7</td>\n",
       "      <td>29.6</td>\n",
       "    </tr>\n",
       "    <tr>\n",
       "      <th>residential-front-yard-parking</th>\n",
       "      <td>100.0</td>\n",
       "      <td>92.0</td>\n",
       "      <td>75.0</td>\n",
       "      <td>86.0</td>\n",
       "      <td>85.0</td>\n",
       "      <td>88.0</td>\n",
       "      <td>86.0</td>\n",
       "      <td>89.0</td>\n",
       "      <td>76.7</td>\n",
       "      <td>75.9</td>\n",
       "      <td>75.0</td>\n",
       "      <td>75.9</td>\n",
       "      <td>77.8</td>\n",
       "    </tr>\n",
       "  </tbody>\n",
       "</table>\n",
       "</div>"
      ],
      "text/plain": [
       "                                completeness  metadata  usability    rs    rr  \\\n",
       "dataset_name                                                                    \n",
       "traffic-cameras                         99.0      80.0       54.0  73.0  71.0   \n",
       "building-permits-green-roofs            91.5     100.0       62.0  78.0  77.0   \n",
       "marriage-licence-statistics            100.0      88.0       62.0  79.0  77.0   \n",
       "daily-shelter-occupancy                 99.0      80.0       50.0  71.0  69.0   \n",
       "residential-front-yard-parking         100.0      92.0       75.0  86.0  85.0   \n",
       "\n",
       "                                  re    sr    ew  rs_normalized  \\\n",
       "dataset_name                                                      \n",
       "traffic-cameras                 77.0  72.0  78.0           33.3   \n",
       "building-permits-green-roofs    83.0  77.5  84.5           50.0   \n",
       "marriage-licence-statistics     83.0  78.0  83.0           53.3   \n",
       "daily-shelter-occupancy         75.0  70.0  76.0           26.7   \n",
       "residential-front-yard-parking  88.0  86.0  89.0           76.7   \n",
       "\n",
       "                                rr_normalized  re_normalized  sr_normalized  \\\n",
       "dataset_name                                                                  \n",
       "traffic-cameras                          27.6           35.7           27.6   \n",
       "building-permits-green-roofs             48.3           57.1           46.6   \n",
       "marriage-licence-statistics              48.3           57.1           48.3   \n",
       "daily-shelter-occupancy                  20.7           28.6           20.7   \n",
       "residential-front-yard-parking           75.9           75.0           75.9   \n",
       "\n",
       "                                ew_normalized  \n",
       "dataset_name                                   \n",
       "traffic-cameras                          37.0  \n",
       "building-permits-green-roofs             61.1  \n",
       "marriage-licence-statistics              55.6  \n",
       "daily-shelter-occupancy                  29.6  \n",
       "residential-front-yard-parking           77.8  "
      ]
     },
     "execution_count": 34,
     "metadata": {},
     "output_type": "execute_result"
    }
   ],
   "source": [
    "normalized_dataset_scores = dataset_scores.copy()\n",
    "\n",
    "for method in ['rs', 'rr', 're', 'sr', 'ew']:\n",
    "    raw_scores = dataset_scores[[method]].values\n",
    "    scores_scaled = MinMaxScaler().fit_transform(raw_scores)\n",
    "    normalized_dataset_scores[method + '_normalized'] = (scores_scaled*100).round(1)\n",
    "    \n",
    "normalized_dataset_scores.sample(5)"
   ]
  },
  {
   "cell_type": "markdown",
   "metadata": {},
   "source": [
    "##### Example: Visualizing normalized SR histogram"
   ]
  },
  {
   "cell_type": "code",
   "execution_count": 35,
   "metadata": {},
   "outputs": [
    {
     "data": {
      "application/vnd.plotly.v1+json": {
       "config": {
        "linkText": "Export to plot.ly",
        "plotlyServerURL": "https://plot.ly",
        "showLink": false
       },
       "data": [
        {
         "type": "histogram",
         "uid": "23d71b5f-b188-4557-b312-fdcf4e1371ef",
         "x": [
          58.6,
          24.1,
          24.1,
          20.7,
          69,
          55.2,
          46.6,
          55.2,
          51.7,
          37.9,
          55.2,
          17.2,
          44.8,
          48.3,
          3.4,
          17.2,
          62.1,
          65.5,
          27.6,
          20.7,
          65.5,
          51.7,
          3.4,
          3.4,
          3.4,
          44.8,
          41.4,
          75.9,
          100,
          86.2,
          51.7,
          69,
          48.3,
          51.7,
          48.3,
          0,
          89.7,
          51.7,
          0,
          55.2,
          51.7,
          31,
          5.2,
          75.9,
          37.9,
          37.9,
          27.6,
          34.5,
          27.6,
          72.4,
          62.1,
          72.4,
          72.4,
          65.5,
          72.4,
          62.1,
          69,
          65.5,
          34.5,
          27.6,
          11.6
         ]
        }
       ],
       "layout": {
        "autosize": true,
        "xaxis": {
         "autorange": true,
         "range": [
          -5,
          105
         ],
         "type": "linear"
        },
        "yaxis": {
         "autorange": true,
         "range": [
          0,
          11.578947368421053
         ]
        }
       }
      },
      "image/png": "[encoded data removed]",
      "text/html": [
       "<div>\n",
       "        \n",
       "        \n",
       "            <div id=\"9469547b-ff33-4eb9-b97b-911feb2e4e4e\" class=\"plotly-graph-div\" style=\"height:525px; width:100%;\"></div>\n",
       "            <script type=\"text/javascript\">\n",
       "                require([\"plotly\"], function(Plotly) {\n",
       "                    window.PLOTLYENV=window.PLOTLYENV || {};\n",
       "                    window.PLOTLYENV.BASE_URL='https://plot.ly';\n",
       "                    \n",
       "                if (document.getElementById(\"9469547b-ff33-4eb9-b97b-911feb2e4e4e\")) {\n",
       "                    Plotly.newPlot(\n",
       "                        '9469547b-ff33-4eb9-b97b-911feb2e4e4e',\n",
       "                        [{\"type\": \"histogram\", \"uid\": \"23d71b5f-b188-4557-b312-fdcf4e1371ef\", \"x\": [58.6, 24.1, 24.1, 20.7, 69.0, 55.2, 46.6, 55.2, 51.7, 37.9, 55.2, 17.2, 44.8, 48.3, 3.4, 17.2, 62.1, 65.5, 27.6, 20.7, 65.5, 51.7, 3.4, 3.4, 3.4, 44.8, 41.4, 75.9, 100.0, 86.2, 51.7, 69.0, 48.3, 51.7, 48.3, 0.0, 89.7, 51.7, 0.0, 55.2, 51.7, 31.0, 5.2, 75.9, 37.9, 37.9, 27.6, 34.5, 27.6, 72.4, 62.1, 72.4, 72.4, 65.5, 72.4, 62.1, 69.0, 65.5, 34.5, 27.6, 11.6]}],\n",
       "                        {},\n",
       "                        {\"showLink\": false, \"linkText\": \"Export to plot.ly\", \"plotlyServerURL\": \"https://plot.ly\", \"responsive\": true}\n",
       "                    ).then(function(){\n",
       "                            \n",
       "var gd = document.getElementById('9469547b-ff33-4eb9-b97b-911feb2e4e4e');\n",
       "var x = new MutationObserver(function (mutations, observer) {{\n",
       "        var display = window.getComputedStyle(gd).display;\n",
       "        if (!display || display === 'none') {{\n",
       "            console.log([gd, 'removed!']);\n",
       "            Plotly.purge(gd);\n",
       "            observer.disconnect();\n",
       "        }}\n",
       "}});\n",
       "\n",
       "// Listen for the removal of the full notebook cells\n",
       "var notebookContainer = gd.closest('#notebook-container');\n",
       "if (notebookContainer) {{\n",
       "    x.observe(notebookContainer, {childList: true});\n",
       "}}\n",
       "\n",
       "// Listen for the clearing of the current output cell\n",
       "var outputEl = gd.closest('.output');\n",
       "if (outputEl) {{\n",
       "    x.observe(outputEl, {childList: true});\n",
       "}}\n",
       "\n",
       "                        })\n",
       "                };\n",
       "                });\n",
       "            </script>\n",
       "        </div>"
      ]
     },
     "metadata": {},
     "output_type": "display_data"
    }
   ],
   "source": [
    "plotly.offline.iplot([go.Histogram(x=normalized_dataset_scores['sr_normalized'])])"
   ]
  },
  {
   "cell_type": "markdown",
   "metadata": {},
   "source": [
    "### Bin into letter grades\n",
    "\n",
    "**Note**: Grade ranges have to be reviewed. Illustration purposes only."
   ]
  },
  {
   "cell_type": "code",
   "execution_count": 55,
   "metadata": {},
   "outputs": [
    {
     "data": {
      "text/html": [
       "<div>\n",
       "<style scoped>\n",
       "    .dataframe tbody tr th:only-of-type {\n",
       "        vertical-align: middle;\n",
       "    }\n",
       "\n",
       "    .dataframe tbody tr th {\n",
       "        vertical-align: top;\n",
       "    }\n",
       "\n",
       "    .dataframe thead th {\n",
       "        text-align: right;\n",
       "    }\n",
       "</style>\n",
       "<table border=\"1\" class=\"dataframe\">\n",
       "  <thead>\n",
       "    <tr style=\"text-align: right;\">\n",
       "      <th></th>\n",
       "      <th>rs_grade</th>\n",
       "      <th>rs_normalized_grade</th>\n",
       "      <th>rr_grade</th>\n",
       "      <th>rr_normalized_grade</th>\n",
       "      <th>re_grade</th>\n",
       "      <th>re_normalized_grade</th>\n",
       "      <th>sr_grade</th>\n",
       "      <th>sr_normalized_grade</th>\n",
       "      <th>ew_grade</th>\n",
       "      <th>ew_normalized_grade</th>\n",
       "    </tr>\n",
       "    <tr>\n",
       "      <th>dataset_name</th>\n",
       "      <th></th>\n",
       "      <th></th>\n",
       "      <th></th>\n",
       "      <th></th>\n",
       "      <th></th>\n",
       "      <th></th>\n",
       "      <th></th>\n",
       "      <th></th>\n",
       "      <th></th>\n",
       "      <th></th>\n",
       "    </tr>\n",
       "  </thead>\n",
       "  <tbody>\n",
       "    <tr>\n",
       "      <th>bicycle-parking-high-capacity-outdoor</th>\n",
       "      <td>B</td>\n",
       "      <td>D</td>\n",
       "      <td>B</td>\n",
       "      <td>D</td>\n",
       "      <td>B</td>\n",
       "      <td>C</td>\n",
       "      <td>B</td>\n",
       "      <td>D</td>\n",
       "      <td>B</td>\n",
       "      <td>C</td>\n",
       "    </tr>\n",
       "    <tr>\n",
       "      <th>former-municipality-boundaries</th>\n",
       "      <td>B</td>\n",
       "      <td>C</td>\n",
       "      <td>B</td>\n",
       "      <td>C</td>\n",
       "      <td>A</td>\n",
       "      <td>C</td>\n",
       "      <td>B</td>\n",
       "      <td>C</td>\n",
       "      <td>A</td>\n",
       "      <td>B</td>\n",
       "    </tr>\n",
       "    <tr>\n",
       "      <th>street-furniture-poster-structure</th>\n",
       "      <td>A</td>\n",
       "      <td>B</td>\n",
       "      <td>A</td>\n",
       "      <td>B</td>\n",
       "      <td>A</td>\n",
       "      <td>B</td>\n",
       "      <td>A</td>\n",
       "      <td>B</td>\n",
       "      <td>A</td>\n",
       "      <td>A</td>\n",
       "    </tr>\n",
       "    <tr>\n",
       "      <th>marriage-licence-statistics</th>\n",
       "      <td>B</td>\n",
       "      <td>B</td>\n",
       "      <td>B</td>\n",
       "      <td>C</td>\n",
       "      <td>A</td>\n",
       "      <td>B</td>\n",
       "      <td>B</td>\n",
       "      <td>C</td>\n",
       "      <td>A</td>\n",
       "      <td>B</td>\n",
       "    </tr>\n",
       "    <tr>\n",
       "      <th>polls-conducted-by-the-city</th>\n",
       "      <td>B</td>\n",
       "      <td>B</td>\n",
       "      <td>B</td>\n",
       "      <td>B</td>\n",
       "      <td>A</td>\n",
       "      <td>B</td>\n",
       "      <td>B</td>\n",
       "      <td>B</td>\n",
       "      <td>A</td>\n",
       "      <td>B</td>\n",
       "    </tr>\n",
       "  </tbody>\n",
       "</table>\n",
       "</div>"
      ],
      "text/plain": [
       "                                      rs_grade rs_normalized_grade rr_grade  \\\n",
       "dataset_name                                                                  \n",
       "bicycle-parking-high-capacity-outdoor        B                   D        B   \n",
       "former-municipality-boundaries               B                   C        B   \n",
       "street-furniture-poster-structure            A                   B        A   \n",
       "marriage-licence-statistics                  B                   B        B   \n",
       "polls-conducted-by-the-city                  B                   B        B   \n",
       "\n",
       "                                      rr_normalized_grade re_grade  \\\n",
       "dataset_name                                                         \n",
       "bicycle-parking-high-capacity-outdoor                   D        B   \n",
       "former-municipality-boundaries                          C        A   \n",
       "street-furniture-poster-structure                       B        A   \n",
       "marriage-licence-statistics                             C        A   \n",
       "polls-conducted-by-the-city                             B        A   \n",
       "\n",
       "                                      re_normalized_grade sr_grade  \\\n",
       "dataset_name                                                         \n",
       "bicycle-parking-high-capacity-outdoor                   C        B   \n",
       "former-municipality-boundaries                          C        B   \n",
       "street-furniture-poster-structure                       B        A   \n",
       "marriage-licence-statistics                             B        B   \n",
       "polls-conducted-by-the-city                             B        B   \n",
       "\n",
       "                                      sr_normalized_grade ew_grade  \\\n",
       "dataset_name                                                         \n",
       "bicycle-parking-high-capacity-outdoor                   D        B   \n",
       "former-municipality-boundaries                          C        A   \n",
       "street-furniture-poster-structure                       B        A   \n",
       "marriage-licence-statistics                             C        A   \n",
       "polls-conducted-by-the-city                             B        A   \n",
       "\n",
       "                                      ew_normalized_grade  \n",
       "dataset_name                                               \n",
       "bicycle-parking-high-capacity-outdoor                   C  \n",
       "former-municipality-boundaries                          B  \n",
       "street-furniture-poster-structure                       A  \n",
       "marriage-licence-statistics                             B  \n",
       "polls-conducted-by-the-city                             B  "
      ]
     },
     "execution_count": 55,
     "metadata": {},
     "output_type": "execute_result"
    }
   ],
   "source": [
    "graded_dataset_scores = normalized_dataset_scores.copy()\n",
    "cols = []\n",
    "\n",
    "for method in ['rs', 'rr', 're', 'sr', 'ew']:\n",
    "    column = method + '_grade'\n",
    "    normal_column = method + '_normalized_grade'\n",
    "    graded_dataset_scores[column] = pd.cut(dataset_scores[method], bins=[-1, 30, 50, 80, 100], labels=['D','C','B','A'])\n",
    "    graded_dataset_scores[normal_column] = pd.cut(normalized_dataset_scores[method + '_normalized'], bins=[-1, 30, 50, 80, 100], labels=['D','C','B','A'])\n",
    "\n",
    "    cols.extend([column, normal_column])\n",
    "    \n",
    "graded_dataset_scores = graded_dataset_scores[cols]\n",
    "graded_dataset_scores.sample(5)"
   ]
  },
  {
   "cell_type": "code",
   "execution_count": 92,
   "metadata": {},
   "outputs": [
    {
     "data": {
      "text/html": [
       "<div>\n",
       "<style scoped>\n",
       "    .dataframe tbody tr th:only-of-type {\n",
       "        vertical-align: middle;\n",
       "    }\n",
       "\n",
       "    .dataframe tbody tr th {\n",
       "        vertical-align: top;\n",
       "    }\n",
       "\n",
       "    .dataframe thead th {\n",
       "        text-align: right;\n",
       "    }\n",
       "</style>\n",
       "<table border=\"1\" class=\"dataframe\">\n",
       "  <thead>\n",
       "    <tr style=\"text-align: right;\">\n",
       "      <th></th>\n",
       "      <th>rs_grade</th>\n",
       "      <th>rs_normalized_grade</th>\n",
       "      <th>rr_grade</th>\n",
       "      <th>rr_normalized_grade</th>\n",
       "      <th>re_grade</th>\n",
       "      <th>re_normalized_grade</th>\n",
       "      <th>sr_grade</th>\n",
       "      <th>sr_normalized_grade</th>\n",
       "      <th>ew_grade</th>\n",
       "      <th>ew_normalized_grade</th>\n",
       "    </tr>\n",
       "  </thead>\n",
       "  <tbody>\n",
       "    <tr>\n",
       "      <th>A</th>\n",
       "      <td>22</td>\n",
       "      <td>3</td>\n",
       "      <td>19</td>\n",
       "      <td>3</td>\n",
       "      <td>39</td>\n",
       "      <td>1</td>\n",
       "      <td>20</td>\n",
       "      <td>3</td>\n",
       "      <td>40</td>\n",
       "      <td>5</td>\n",
       "    </tr>\n",
       "    <tr>\n",
       "      <th>B</th>\n",
       "      <td>39</td>\n",
       "      <td>30</td>\n",
       "      <td>42</td>\n",
       "      <td>27</td>\n",
       "      <td>22</td>\n",
       "      <td>34</td>\n",
       "      <td>41</td>\n",
       "      <td>27</td>\n",
       "      <td>21</td>\n",
       "      <td>32</td>\n",
       "    </tr>\n",
       "    <tr>\n",
       "      <th>C</th>\n",
       "      <td>0</td>\n",
       "      <td>12</td>\n",
       "      <td>0</td>\n",
       "      <td>15</td>\n",
       "      <td>0</td>\n",
       "      <td>13</td>\n",
       "      <td>0</td>\n",
       "      <td>13</td>\n",
       "      <td>0</td>\n",
       "      <td>12</td>\n",
       "    </tr>\n",
       "    <tr>\n",
       "      <th>D</th>\n",
       "      <td>0</td>\n",
       "      <td>16</td>\n",
       "      <td>0</td>\n",
       "      <td>16</td>\n",
       "      <td>0</td>\n",
       "      <td>13</td>\n",
       "      <td>0</td>\n",
       "      <td>18</td>\n",
       "      <td>0</td>\n",
       "      <td>12</td>\n",
       "    </tr>\n",
       "  </tbody>\n",
       "</table>\n",
       "</div>"
      ],
      "text/plain": [
       "   rs_grade  rs_normalized_grade  rr_grade  rr_normalized_grade  re_grade  \\\n",
       "A        22                    3        19                    3        39   \n",
       "B        39                   30        42                   27        22   \n",
       "C         0                   12         0                   15         0   \n",
       "D         0                   16         0                   16         0   \n",
       "\n",
       "   re_normalized_grade  sr_grade  sr_normalized_grade  ew_grade  \\\n",
       "A                    1        20                    3        40   \n",
       "B                   34        41                   27        21   \n",
       "C                   13         0                   13         0   \n",
       "D                   13         0                   18         0   \n",
       "\n",
       "   ew_normalized_grade  \n",
       "A                    5  \n",
       "B                   32  \n",
       "C                   12  \n",
       "D                   12  "
      ]
     },
     "execution_count": 92,
     "metadata": {},
     "output_type": "execute_result"
    }
   ],
   "source": [
    "dists = {}\n",
    "\n",
    "for c in graded_dataset_scores.columns.values:\n",
    "    dists[c] = graded_dataset_scores[c].reset_index(drop=False).groupby(c).count().to_dict()['dataset_name']\n",
    "\n",
    "pd.DataFrame(dists)"
   ]
  },
  {
   "cell_type": "markdown",
   "metadata": {},
   "source": [
    "### Write to CKAN"
   ]
  },
  {
   "cell_type": "code",
   "execution_count": null,
   "metadata": {},
   "outputs": [],
   "source": [
    "ckan_dev = ckanapi.RemoteCKAN( address='https://ckanadmin0.intra.dev-toronto.ca/', apikey='784f11cc-b170-4377-83a3-38ba28662b16')"
   ]
  },
  {
   "cell_type": "code",
   "execution_count": null,
   "metadata": {},
   "outputs": [],
   "source": [
    "to_ckan = with_letter_grade.copy()\n",
    "to_ckan['utc_timestamp'] = datetime.datetime.now().strftime('%Y-%m-%d %H:%M:%S')\n",
    "to_ckan['model'] = 'v1'\n",
    "\n",
    "to_ckan.sample(frac=.2)"
   ]
  },
  {
   "cell_type": "code",
   "execution_count": null,
   "metadata": {},
   "outputs": [],
   "source": [
    "ckan_dev.action.datastore_create(\n",
    "    resource={\n",
    "        'package_id': 'catalogue-scorecard',\n",
    "        'name': 'Catalogue Scorecard',\n",
    "        'format': 'CSV'\n",
    "    },\n",
    "    records=to_ckan.to_dict(orient='row')\n",
    ")"
   ]
  },
  {
   "cell_type": "code",
   "execution_count": null,
   "metadata": {},
   "outputs": [],
   "source": [
    "# ckan_dev.action.datastore_delete(id='1d4369aa-ff72-4b62-88a3-5043cd161715')"
   ]
  },
  {
   "cell_type": "markdown",
   "metadata": {},
   "source": [
    "#### Reporting"
   ]
  },
  {
   "cell_type": "code",
   "execution_count": null,
   "metadata": {},
   "outputs": [],
   "source": [
    "datasets_per_division = pd.DataFrame([ {'dataset_name': p['name'], 'title': p['title'], 'owner_division': p['owner_division'].strip() } for p in packages]).set_index('dataset_name')"
   ]
  },
  {
   "cell_type": "code",
   "execution_count": null,
   "metadata": {},
   "outputs": [],
   "source": [
    "joined_df = datasets_per_division.join(with_letter_grade)\n",
    "joined_df[[c for c in joined_df.columns.values if c != 'letter_grade']] = joined_df[[c for c in joined_df.columns.values if c != 'letter_grade']].fillna(0)\n",
    "joined_df['letter_grade'] = joined_df['letter_grade'].cat.add_categories(['F'])\n",
    "joined_df['letter_grade'] = joined_df['letter_grade'].fillna('F')\n",
    "joined_df.sample(10)"
   ]
  },
  {
   "cell_type": "code",
   "execution_count": null,
   "metadata": {},
   "outputs": [],
   "source": [
    "division_counts = joined_df.groupby(['owner_division', 'letter_grade'])['letter_grade'].count().unstack().fillna(0)\n",
    "division_counts.sample(10)"
   ]
  },
  {
   "cell_type": "code",
   "execution_count": null,
   "metadata": {},
   "outputs": [],
   "source": [
    "data = []\n",
    "\n",
    "for i, l in enumerate(sorted(division_counts.columns.values)):\n",
    "    data.append(\n",
    "        go.Bar(\n",
    "        x=division_counts.index.values,\n",
    "        y=[ r[i] for r in division_counts.values],\n",
    "        name=l\n",
    "        )\n",
    "    )"
   ]
  },
  {
   "cell_type": "code",
   "execution_count": null,
   "metadata": {},
   "outputs": [],
   "source": [
    "fig = go.Figure(data=data, layout=go.Layout(barmode='group'))\n",
    "plotly.offline.iplot(fig)"
   ]
  },
  {
   "cell_type": "code",
   "execution_count": null,
   "metadata": {},
   "outputs": [],
   "source": [
    "fig = go.Figure(data=data, layout=go.Layout(barmode='stack'))\n",
    "plotly.offline.iplot(fig)"
   ]
  },
  {
   "cell_type": "code",
   "execution_count": null,
   "metadata": {},
   "outputs": [],
   "source": []
  }
 ],
 "metadata": {
  "kernelspec": {
   "display_name": "Python 3",
   "language": "python",
   "name": "python3"
  },
  "language_info": {
   "codemirror_mode": {
    "name": "ipython",
    "version": 3
   },
   "file_extension": ".py",
   "mimetype": "text/x-python",
   "name": "python",
   "nbconvert_exporter": "python",
   "pygments_lexer": "ipython3",
   "version": "3.7.3"
  }
 },
 "nbformat": 4,
 "nbformat_minor": 4
}
